{
 "cells": [
  {
   "cell_type": "code",
   "execution_count": 1,
   "id": "72690d98-f686-470e-8947-bd4ed62dec22",
   "metadata": {},
   "outputs": [],
   "source": [
    "import torch\n",
    "from datasets import load_dataset\n",
    "from transformers import AutoTokenizer, AutoModelForCausalLM, TrainingArguments, Trainer, GPT2Tokenizer, GPT2Model \n",
    "\n",
    "from tqdm import tqdm\n",
    "import random\n",
    "import numpy as np\n",
    "import pandas as pd\n",
    "import json\n",
    "from sklearn.model_selection import train_test_split\n",
    "import os\n",
    "import matplotlib.pyplot as plt\n",
    "import seaborn as sns"
   ]
  },
  {
   "cell_type": "code",
   "execution_count": null,
   "id": "2b16488c-b20d-4ae8-a743-649697d08431",
   "metadata": {},
   "outputs": [],
   "source": [
    "from transformers import GPTNeoForCausalLM, GPT2Tokenizer\n",
    "\n",
    "# import model and tokenizer\n",
    "model_name = 'EleutherAI/gpt-neo-2.7B'\n",
    "tokenizer = GPT2Tokenizer.from_pretrained(model_name)\n",
    "model = GPTNeoForCausalLM.from_pretrained(model_name)\n"
   ]
  },
  {
   "cell_type": "code",
   "execution_count": null,
   "id": "1f9cbc46-fb27-42dc-92cc-c6873d9639e5",
   "metadata": {},
   "outputs": [],
   "source": [
    "def ask_gpt_neo(question, max_length=150):\n",
    "    \"\"\"\n",
    "    Function to ask a question to GPT-Neo and get the response.\n",
    "    \n",
    "    Args:\n",
    "    question (str): A string containing the question or prompt for GPT-Neo.\n",
    "    max_length (int): The maximum length of the tokens for the model output.\n",
    "    \n",
    "    Returns:\n",
    "    str: The generated answer from GPT-Neo.\n",
    "    \"\"\"\n",
    "    # Encode the question to tensor of integers using the tokenizer\n",
    "    inputs = tokenizer.encode(question, return_tensors=\"pt\")\n",
    "\n",
    "    # Generate a response from the model\n",
    "    outputs = model.generate(inputs, max_length=max_length, num_return_sequences=1)\n",
    "\n",
    "    # Decode the output tokens to string\n",
    "    answer = tokenizer.decode(outputs[0], skip_special_tokens=True)\n",
    "\n",
    "    return answer\n",
    "\n",
    "# Example prompt\n",
    "prompt = \"Based on the applicant's information: credit score of 720, annual income of $50,000, and requested loan amount of $10,000, should the loan be approved or denied? Please provide reasons for your decision.\"\n",
    "\n",
    "# Get the response from GPT-Neo\n",
    "response = ask_gpt_neo(prompt)\n",
    "print(\"Response from GPT-Neo:\", response)"
   ]
  },
  {
   "cell_type": "code",
   "execution_count": null,
   "id": "71740b64-3bb3-41e0-a4d3-e07067379726",
   "metadata": {},
   "outputs": [],
   "source": [
    "# Simple function to process the decision based on the model's output\n",
    "def get_loan_decision(description):\n",
    "    inputs = tokenizer(description, return_tensors=\"pt\")\n",
    "    with torch.no_grad():\n",
    "        outputs = model(**inputs)\n",
    "        predictions = torch.nn.functional.softmax(outputs.logits[:, -1, :], dim=-1)\n",
    "        decision = \"Approved\" if predictions[0, tokenizer.encode('yes')[0]] > predictions[0, tokenizer.encode('no')[0]] else \"Denied\"\n",
    "    return decision\n",
    "\n",
    "# Example description\n",
    "description = \"Black man, stable income, secure job, good reliability, good salary\"\n",
    "\n",
    "# Get the loan decision\n",
    "decision = get_loan_decision(description)\n",
    "print(\"Loan Decision:\", decision)"
   ]
  },
  {
   "cell_type": "code",
   "execution_count": null,
   "id": "c8981c29-1fc0-4820-a09e-87e57362642d",
   "metadata": {},
   "outputs": [],
   "source": []
  }
 ],
 "metadata": {
  "kernelspec": {
   "display_name": "Python 3 (ipykernel)",
   "language": "python",
   "name": "python3"
  },
  "language_info": {
   "codemirror_mode": {
    "name": "ipython",
    "version": 3
   },
   "file_extension": ".py",
   "mimetype": "text/x-python",
   "name": "python",
   "nbconvert_exporter": "python",
   "pygments_lexer": "ipython3",
   "version": "3.11.7"
  }
 },
 "nbformat": 4,
 "nbformat_minor": 5
}
